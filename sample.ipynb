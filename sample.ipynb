{
 "cells": [
  {
   "metadata": {},
   "cell_type": "markdown",
   "source": [
    "# NN.Pipeline\n",
    "\n",
    "뉴럴 네트워크 파이프라인"
   ],
   "id": "8a77807f92f26ee"
  },
  {
   "metadata": {
    "ExecuteTime": {
     "end_time": "2025-01-27T06:31:16.014591Z",
     "start_time": "2025-01-27T06:31:13.774963Z"
    }
   },
   "cell_type": "code",
   "source": [
    "import numpy as np\n",
    "import torch\n",
    "import torch.nn as nn\n",
    "import matplotlib.pyplot as plt\n",
    "\n",
    "from nnpipeline import *\n",
    "from nnpipeline.prototype.composition.LinearExponentialComposition import LinearExponentialComposition\n",
    "from nnpipeline.tools import *\n",
    "\n",
    "%matplotlib notebook"
   ],
   "id": "fbc121e30a2defb3",
   "outputs": [],
   "execution_count": 1
  },
  {
   "metadata": {
    "ExecuteTime": {
     "end_time": "2025-01-27T06:31:16.030230Z",
     "start_time": "2025-01-27T06:31:16.014591Z"
    }
   },
   "cell_type": "code",
   "source": [
    "class ExponentialAutoEncoder(Pipe):\n",
    "    \"\"\"\n",
    "    training 모드에 따라 다르게 동작하는 Exponential Auto Encoder\n",
    "    지수적 압축/확장을 수행하는 오토인코더이며,\n",
    "    train 모드일 때 decoded된 값을 반환하고\n",
    "    eval 모드일 때 encoded된 값을 반환한다.\n",
    "    \"\"\"\n",
    "    def __init__(self, input_size:int, output_size:int,\n",
    "                 compression_rate:float = 0.618):\n",
    "        super(ExponentialAutoEncoder, self).__init__()\n",
    "        self.encoder = LinearExponentialEncoder(input_size, output_size,\n",
    "                                                compression_rate=compression_rate)\n",
    "        self.decoder = LinearExponentialDecoder(output_size, input_size,\n",
    "                                                expansion_rate=1/compression_rate)\n",
    "\n",
    "    def forward(self, x):\n",
    "        if self.training:\n",
    "            x = self.encoder(x)\n",
    "            x = self.decoder(x)\n",
    "            return x\n",
    "\n",
    "        else:\n",
    "            return self.encoder(x)\n",
    "\n"
   ],
   "id": "6ad37eec5374b1d9",
   "outputs": [],
   "execution_count": 2
  },
  {
   "metadata": {
    "ExecuteTime": {
     "end_time": "2025-01-27T06:31:16.146891Z",
     "start_time": "2025-01-27T06:31:16.131193Z"
    }
   },
   "cell_type": "code",
   "source": [
    "eae = ExponentialAutoEncoder(10, 5, 0.618**(1/2))\n",
    "eae.eval()\n",
    "eae.training"
   ],
   "id": "414c87d62d6de0d1",
   "outputs": [
    {
     "data": {
      "text/plain": [
       "False"
      ]
     },
     "execution_count": 3,
     "metadata": {},
     "output_type": "execute_result"
    }
   ],
   "execution_count": 3
  },
  {
   "metadata": {
    "ExecuteTime": {
     "end_time": "2025-01-27T06:31:16.178824Z",
     "start_time": "2025-01-27T06:31:16.162742Z"
    }
   },
   "cell_type": "code",
   "source": [
    "eae.train()\n",
    "eae.training"
   ],
   "id": "ec0eb47e8786564d",
   "outputs": [
    {
     "data": {
      "text/plain": [
       "True"
      ]
     },
     "execution_count": 4,
     "metadata": {},
     "output_type": "execute_result"
    }
   ],
   "execution_count": 4
  },
  {
   "metadata": {
    "ExecuteTime": {
     "end_time": "2025-01-27T06:31:16.227024Z",
     "start_time": "2025-01-27T06:31:16.210988Z"
    }
   },
   "cell_type": "code",
   "source": "",
   "id": "a9da23d36f014ed6",
   "outputs": [],
   "execution_count": null
  },
  {
   "metadata": {
    "ExecuteTime": {
     "end_time": "2025-01-27T06:31:16.258980Z",
     "start_time": "2025-01-27T06:31:16.243150Z"
    }
   },
   "cell_type": "code",
   "source": [
    "lee = LinearExponentialEncoder(100, 34)\n",
    "lee"
   ],
   "id": "9460851d42e03b1b",
   "outputs": [
    {
     "data": {
      "text/plain": [
       "LinearExponentialEncoder(\n",
       "  (layers): Sequential(\n",
       "    (0): Linear(in_features=100, out_features=61, bias=True)\n",
       "    (1): BatchNorm1d(61, eps=1e-05, momentum=0.1, affine=True, track_running_stats=True)\n",
       "    (2): ReLU()\n",
       "    (3): Linear(in_features=61, out_features=37, bias=True)\n",
       "    (4): BatchNorm1d(37, eps=1e-05, momentum=0.1, affine=True, track_running_stats=True)\n",
       "    (5): ReLU()\n",
       "    (6): Linear(in_features=37, out_features=34, bias=True)\n",
       "    (7): BatchNorm1d(34, eps=1e-05, momentum=0.1, affine=True, track_running_stats=True)\n",
       "    (8): ReLU()\n",
       "  )\n",
       ")"
      ]
     },
     "execution_count": 5,
     "metadata": {},
     "output_type": "execute_result"
    }
   ],
   "execution_count": 5
  },
  {
   "metadata": {
    "ExecuteTime": {
     "end_time": "2025-01-27T06:31:16.338781Z",
     "start_time": "2025-01-27T06:31:16.308716Z"
    }
   },
   "cell_type": "code",
   "source": [
    "l1 = LinearExponentialEncoder(100, 35)\n",
    "l2 = LinearExponentialEncoder(150, 40)\n",
    "l3 = LinearExponentialEncoder(120, 30)\n",
    "\n",
    "lec = LinearExponentialComposition([l1, l2, l3], 80)\n",
    "\n",
    "lec"
   ],
   "id": "fd6c964b97a16963",
   "outputs": [
    {
     "data": {
      "text/plain": [
       "LinearExponentialComposition(\n",
       "  (pipes): ModuleList(\n",
       "    (0): LinearExponentialEncoder(\n",
       "      (layers): Sequential(\n",
       "        (0): Linear(in_features=100, out_features=61, bias=True)\n",
       "        (1): BatchNorm1d(61, eps=1e-05, momentum=0.1, affine=True, track_running_stats=True)\n",
       "        (2): ReLU()\n",
       "        (3): Linear(in_features=61, out_features=37, bias=True)\n",
       "        (4): BatchNorm1d(37, eps=1e-05, momentum=0.1, affine=True, track_running_stats=True)\n",
       "        (5): ReLU()\n",
       "        (6): Linear(in_features=37, out_features=35, bias=True)\n",
       "        (7): BatchNorm1d(35, eps=1e-05, momentum=0.1, affine=True, track_running_stats=True)\n",
       "        (8): ReLU()\n",
       "      )\n",
       "    )\n",
       "    (1): LinearExponentialEncoder(\n",
       "      (layers): Sequential(\n",
       "        (0): Linear(in_features=150, out_features=92, bias=True)\n",
       "        (1): BatchNorm1d(92, eps=1e-05, momentum=0.1, affine=True, track_running_stats=True)\n",
       "        (2): ReLU()\n",
       "        (3): Linear(in_features=92, out_features=56, bias=True)\n",
       "        (4): BatchNorm1d(56, eps=1e-05, momentum=0.1, affine=True, track_running_stats=True)\n",
       "        (5): ReLU()\n",
       "        (6): Linear(in_features=56, out_features=40, bias=True)\n",
       "        (7): BatchNorm1d(40, eps=1e-05, momentum=0.1, affine=True, track_running_stats=True)\n",
       "        (8): ReLU()\n",
       "      )\n",
       "    )\n",
       "    (2): LinearExponentialEncoder(\n",
       "      (layers): Sequential(\n",
       "        (0): Linear(in_features=120, out_features=74, bias=True)\n",
       "        (1): BatchNorm1d(74, eps=1e-05, momentum=0.1, affine=True, track_running_stats=True)\n",
       "        (2): ReLU()\n",
       "        (3): Linear(in_features=74, out_features=45, bias=True)\n",
       "        (4): BatchNorm1d(45, eps=1e-05, momentum=0.1, affine=True, track_running_stats=True)\n",
       "        (5): ReLU()\n",
       "        (6): Linear(in_features=45, out_features=30, bias=True)\n",
       "        (7): BatchNorm1d(30, eps=1e-05, momentum=0.1, affine=True, track_running_stats=True)\n",
       "        (8): ReLU()\n",
       "      )\n",
       "    )\n",
       "  )\n",
       "  (joint): LinearJoint()\n",
       "  (encoder): LinearExponentialEncoder(\n",
       "    (layers): Sequential(\n",
       "      (0): Linear(in_features=105, out_features=80, bias=True)\n",
       "      (1): BatchNorm1d(80, eps=1e-05, momentum=0.1, affine=True, track_running_stats=True)\n",
       "      (2): ReLU()\n",
       "    )\n",
       "  )\n",
       ")"
      ]
     },
     "execution_count": 6,
     "metadata": {},
     "output_type": "execute_result"
    }
   ],
   "execution_count": 6
  },
  {
   "metadata": {
    "ExecuteTime": {
     "end_time": "2025-01-27T06:31:46.046584Z",
     "start_time": "2025-01-27T06:31:46.014478Z"
    }
   },
   "cell_type": "code",
   "source": [
    "# test\n",
    "x1, x2, x3 = torch.randn(3, 100), torch.randn(3, 150), torch.randn(3, 120)\n",
    "y = lec(x1, x2, x3)\n",
    "\n",
    "print(y.shape)"
   ],
   "id": "66be9838a07ed5e6",
   "outputs": [
    {
     "name": "stdout",
     "output_type": "stream",
     "text": [
      "torch.Size([3, 80])\n"
     ]
    }
   ],
   "execution_count": 10
  },
  {
   "metadata": {},
   "cell_type": "code",
   "outputs": [],
   "execution_count": null,
   "source": "",
   "id": "c5f7a02e6d63885"
  }
 ],
 "metadata": {
  "kernelspec": {
   "display_name": "Python 3",
   "language": "python",
   "name": "python3"
  },
  "language_info": {
   "codemirror_mode": {
    "name": "ipython",
    "version": 2
   },
   "file_extension": ".py",
   "mimetype": "text/x-python",
   "name": "python",
   "nbconvert_exporter": "python",
   "pygments_lexer": "ipython2",
   "version": "2.7.6"
  }
 },
 "nbformat": 4,
 "nbformat_minor": 5
}
