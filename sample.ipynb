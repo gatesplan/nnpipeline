{
 "cells": [
  {
   "metadata": {},
   "cell_type": "markdown",
   "source": [
    "# NN.Pipeline\n",
    "\n",
    "뉴럴 네트워크 파이프라인"
   ],
   "id": "8a77807f92f26ee"
  },
  {
   "metadata": {
    "ExecuteTime": {
     "end_time": "2025-01-26T04:32:40.158946Z",
     "start_time": "2025-01-26T04:32:40.146945Z"
    }
   },
   "cell_type": "code",
   "source": [
    "import numpy as np\n",
    "import torch\n",
    "import torch.nn as nn\n",
    "import matplotlib.pyplot as plt\n",
    "\n",
    "from nnpipeline import *\n",
    "from nnpipeline.tools import *\n",
    "\n",
    "%matplotlib notebook"
   ],
   "id": "fbc121e30a2defb3",
   "outputs": [],
   "execution_count": 30
  },
  {
   "metadata": {
    "ExecuteTime": {
     "end_time": "2025-01-26T04:38:58.746392Z",
     "start_time": "2025-01-26T04:38:58.730398Z"
    }
   },
   "cell_type": "code",
   "source": [
    "class ExponentialAutoEncoder(Pipe):\n",
    "    \"\"\"\n",
    "    training 모드에 따라 다르게 동작하는 Exponential Auto Encoder\n",
    "    지수적 압축/확장을 수행하는 오토인코더이며,\n",
    "    train 모드일 때 decoded된 값을 반환하고\n",
    "    eval 모드일 때 encoded된 값을 반환한다.\n",
    "    \"\"\"\n",
    "    def __init__(self, input_size:int, output_size:int,\n",
    "                 compression_rate:float = 0.618):\n",
    "        super(ExponentialAutoEncoder, self).__init__()\n",
    "        self.encoder = LinearExponentialEncoder(input_size, output_size,\n",
    "                                                compression_rate=compression_rate)\n",
    "        self.decoder = LinearExponentialDecoder(output_size, input_size,\n",
    "                                                expansion_rate=1/compression_rate)\n",
    "\n",
    "    def forward(self, x):\n",
    "        if self.training:\n",
    "            x = self.encoder(x)\n",
    "            x = self.decoder(x)\n",
    "            return x\n",
    "\n",
    "        else:\n",
    "            return self.encoder(x)\n",
    "\n"
   ],
   "id": "6ad37eec5374b1d9",
   "outputs": [],
   "execution_count": 40
  },
  {
   "metadata": {
    "ExecuteTime": {
     "end_time": "2025-01-26T04:39:08.993829Z",
     "start_time": "2025-01-26T04:39:08.967173Z"
    }
   },
   "cell_type": "code",
   "source": [
    "eae = ExponentialAutoEncoder(10, 5, 0.618**(1/2))\n",
    "eae.eval()\n",
    "eae.training"
   ],
   "id": "414c87d62d6de0d1",
   "outputs": [
    {
     "data": {
      "text/plain": [
       "False"
      ]
     },
     "execution_count": 42,
     "metadata": {},
     "output_type": "execute_result"
    }
   ],
   "execution_count": 42
  },
  {
   "metadata": {
    "ExecuteTime": {
     "end_time": "2025-01-26T04:39:23.835351Z",
     "start_time": "2025-01-26T04:39:23.822840Z"
    }
   },
   "cell_type": "code",
   "source": [
    "eae.train()\n",
    "eae.training"
   ],
   "id": "ec0eb47e8786564d",
   "outputs": [
    {
     "data": {
      "text/plain": [
       "True"
      ]
     },
     "execution_count": 44,
     "metadata": {},
     "output_type": "execute_result"
    }
   ],
   "execution_count": 44
  },
  {
   "metadata": {
    "ExecuteTime": {
     "end_time": "2025-01-26T03:47:19.083301Z",
     "start_time": "2025-01-26T03:47:19.073285Z"
    }
   },
   "cell_type": "code",
   "source": "",
   "id": "a9da23d36f014ed6",
   "outputs": [
    {
     "ename": "SyntaxError",
     "evalue": "invalid syntax (2459522361.py, line 1)",
     "output_type": "error",
     "traceback": [
      "\u001B[1;36m  Cell \u001B[1;32mIn[23], line 1\u001B[1;36m\u001B[0m\n\u001B[1;33m    a, b = **(1, 2)\u001B[0m\n\u001B[1;37m           ^\u001B[0m\n\u001B[1;31mSyntaxError\u001B[0m\u001B[1;31m:\u001B[0m invalid syntax\n"
     ]
    }
   ],
   "execution_count": 23
  },
  {
   "metadata": {},
   "cell_type": "code",
   "outputs": [],
   "execution_count": null,
   "source": "",
   "id": "9460851d42e03b1b"
  }
 ],
 "metadata": {
  "kernelspec": {
   "display_name": "Python 3",
   "language": "python",
   "name": "python3"
  },
  "language_info": {
   "codemirror_mode": {
    "name": "ipython",
    "version": 2
   },
   "file_extension": ".py",
   "mimetype": "text/x-python",
   "name": "python",
   "nbconvert_exporter": "python",
   "pygments_lexer": "ipython2",
   "version": "2.7.6"
  }
 },
 "nbformat": 4,
 "nbformat_minor": 5
}
